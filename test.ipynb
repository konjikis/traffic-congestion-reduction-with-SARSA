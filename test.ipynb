{
 "cells": [
  {
   "cell_type": "code",
   "execution_count": 7,
   "id": "2b9ae175-836c-42d1-9e59-f678c057923a",
   "metadata": {},
   "outputs": [
    {
     "name": "stdout",
     "output_type": "stream",
     "text": [
      "Requirement already satisfied: numpy in c:\\projects\\sasra-traffic-and-pedestrian-flow\\cs695venv\\lib\\site-packages (1.26.2)\n",
      "Requirement already satisfied: matplotlib in c:\\projects\\sasra-traffic-and-pedestrian-flow\\cs695venv\\lib\\site-packages (3.8.1)\n",
      "Requirement already satisfied: contourpy>=1.0.1 in c:\\projects\\sasra-traffic-and-pedestrian-flow\\cs695venv\\lib\\site-packages (from matplotlib) (1.2.0)\n",
      "Requirement already satisfied: cycler>=0.10 in c:\\projects\\sasra-traffic-and-pedestrian-flow\\cs695venv\\lib\\site-packages (from matplotlib) (0.12.1)\n",
      "Requirement already satisfied: fonttools>=4.22.0 in c:\\projects\\sasra-traffic-and-pedestrian-flow\\cs695venv\\lib\\site-packages (from matplotlib) (4.44.3)\n",
      "Requirement already satisfied: kiwisolver>=1.3.1 in c:\\projects\\sasra-traffic-and-pedestrian-flow\\cs695venv\\lib\\site-packages (from matplotlib) (1.4.5)\n",
      "Requirement already satisfied: packaging>=20.0 in c:\\projects\\sasra-traffic-and-pedestrian-flow\\cs695venv\\lib\\site-packages (from matplotlib) (23.2)\n",
      "Requirement already satisfied: pillow>=8 in c:\\projects\\sasra-traffic-and-pedestrian-flow\\cs695venv\\lib\\site-packages (from matplotlib) (10.1.0)\n",
      "Requirement already satisfied: pyparsing>=2.3.1 in c:\\projects\\sasra-traffic-and-pedestrian-flow\\cs695venv\\lib\\site-packages (from matplotlib) (3.1.1)\n",
      "Requirement already satisfied: python-dateutil>=2.7 in c:\\projects\\sasra-traffic-and-pedestrian-flow\\cs695venv\\lib\\site-packages (from matplotlib) (2.8.2)\n",
      "Requirement already satisfied: six>=1.5 in c:\\projects\\sasra-traffic-and-pedestrian-flow\\cs695venv\\lib\\site-packages (from python-dateutil>=2.7->matplotlib) (1.16.0)\n"
     ]
    },
    {
     "name": "stderr",
     "output_type": "stream",
     "text": [
      "\n",
      "[notice] A new release of pip is available: 23.1.2 -> 23.3.1\n",
      "[notice] To update, run: python.exe -m pip install --upgrade pip\n"
     ]
    }
   ],
   "source": [
    "!pip install numpy matplotlib"
   ]
  },
  {
   "cell_type": "code",
   "execution_count": 8,
   "id": "1c46a6d5-db54-444a-b6bc-3fe6eefd7059",
   "metadata": {},
   "outputs": [],
   "source": [
    "import numpy as np\n",
    "import matplotlib.pyplot as plt\n",
    "from matplotlib import animation"
   ]
  },
  {
   "cell_type": "code",
   "execution_count": 9,
   "id": "2a65c96a-0550-400b-b81a-42b2d39a5a23",
   "metadata": {},
   "outputs": [],
   "source": [
    "# Define the environment parameters\n",
    "class TrafficEnvironment:\n",
    "    def __init__(self):\n",
    "        # Initialize the parameters for the simulation\n",
    "        pass\n",
    "\n",
    "    def reset(self):\n",
    "        # Reset the environment to the initial state\n",
    "        pass\n",
    "\n",
    "    def step(self, action):\n",
    "        # Apply an action (change in traffic signal) and return the new state, reward, and whether the episode is done\n",
    "        pass\n",
    "\n",
    "    def render(self):\n",
    "        # Render the current state of the environment\n",
    "        pass\n"
   ]
  },
  {
   "cell_type": "code",
   "execution_count": 10,
   "id": "3a27fb45-33a9-4b12-b09a-aebccc8cefda",
   "metadata": {},
   "outputs": [],
   "source": [
    "class SARSAAgent:\n",
    "    def __init__(self, learning_rate, discount_factor, epsilon, action_space):\n",
    "        self.learning_rate = learning_rate\n",
    "        self.discount_factor = discount_factor\n",
    "        self.epsilon = epsilon\n",
    "        self.action_space = action_space\n",
    "        self.q_table = {}  # Initialize the Q-table\n",
    "\n",
    "    def choose_action(self, state):\n",
    "        # Implement the policy for choosing an action based on the current state and Q-table\n",
    "        pass\n",
    "\n",
    "    def learn(self, state, action, reward, next_state, next_action):\n",
    "        # Update the Q-table based on the SARSA update rule\n",
    "        pass\n"
   ]
  },
  {
   "cell_type": "code",
   "execution_count": 11,
   "id": "95b0575a-60b3-4592-9048-1a686c7c9afb",
   "metadata": {},
   "outputs": [
    {
     "ename": "AttributeError",
     "evalue": "'TrafficEnvironment' object has no attribute 'action_space'",
     "output_type": "error",
     "traceback": [
      "\u001b[1;31m---------------------------------------------------------------------------\u001b[0m",
      "\u001b[1;31mAttributeError\u001b[0m                            Traceback (most recent call last)",
      "Cell \u001b[1;32mIn[11], line 21\u001b[0m\n\u001b[0;32m     18\u001b[0m                 \u001b[38;5;28;01mbreak\u001b[39;00m\n\u001b[0;32m     20\u001b[0m \u001b[38;5;66;03m# Run the simulation\u001b[39;00m\n\u001b[1;32m---> 21\u001b[0m \u001b[43mrun_simulation\u001b[49m\u001b[43m(\u001b[49m\u001b[43m)\u001b[49m\n",
      "Cell \u001b[1;32mIn[11], line 3\u001b[0m, in \u001b[0;36mrun_simulation\u001b[1;34m()\u001b[0m\n\u001b[0;32m      1\u001b[0m \u001b[38;5;28;01mdef\u001b[39;00m \u001b[38;5;21mrun_simulation\u001b[39m():\n\u001b[0;32m      2\u001b[0m     env \u001b[38;5;241m=\u001b[39m TrafficEnvironment()\n\u001b[1;32m----> 3\u001b[0m     agent \u001b[38;5;241m=\u001b[39m SARSAAgent(learning_rate\u001b[38;5;241m=\u001b[39m\u001b[38;5;241m0.1\u001b[39m, discount_factor\u001b[38;5;241m=\u001b[39m\u001b[38;5;241m0.99\u001b[39m, epsilon\u001b[38;5;241m=\u001b[39m\u001b[38;5;241m0.1\u001b[39m, action_space\u001b[38;5;241m=\u001b[39m\u001b[43menv\u001b[49m\u001b[38;5;241;43m.\u001b[39;49m\u001b[43maction_space\u001b[49m)\n\u001b[0;32m      5\u001b[0m     \u001b[38;5;28;01mfor\u001b[39;00m episode \u001b[38;5;129;01min\u001b[39;00m \u001b[38;5;28mrange\u001b[39m(total_episodes):\n\u001b[0;32m      6\u001b[0m         state \u001b[38;5;241m=\u001b[39m env\u001b[38;5;241m.\u001b[39mreset()\n",
      "\u001b[1;31mAttributeError\u001b[0m: 'TrafficEnvironment' object has no attribute 'action_space'"
     ]
    }
   ],
   "source": [
    "def run_simulation():\n",
    "    env = TrafficEnvironment()\n",
    "    agent = SARSAAgent(learning_rate=0.1, discount_factor=0.99, epsilon=0.1, action_space=env.action_space)\n",
    "\n",
    "    for episode in range(total_episodes):\n",
    "        state = env.reset()\n",
    "        action = agent.choose_action(state)\n",
    "\n",
    "        while True:\n",
    "            next_state, reward, done = env.step(action)\n",
    "            next_action = agent.choose_action(next_state)\n",
    "            agent.learn(state, action, reward, next_state, next_action)\n",
    "\n",
    "            state = next_state\n",
    "            action = next_action\n",
    "\n",
    "            if done:\n",
    "                break\n",
    "\n",
    "# Run the simulation\n",
    "run_simulation()\n"
   ]
  },
  {
   "cell_type": "code",
   "execution_count": null,
   "id": "3fb0f355-f989-4b77-96f2-6be8f34f8089",
   "metadata": {},
   "outputs": [],
   "source": []
  }
 ],
 "metadata": {
  "kernelspec": {
   "display_name": "Python 3 (ipykernel)",
   "language": "python",
   "name": "python3"
  },
  "language_info": {
   "codemirror_mode": {
    "name": "ipython",
    "version": 3
   },
   "file_extension": ".py",
   "mimetype": "text/x-python",
   "name": "python",
   "nbconvert_exporter": "python",
   "pygments_lexer": "ipython3",
   "version": "3.11.4"
  }
 },
 "nbformat": 4,
 "nbformat_minor": 5
}
